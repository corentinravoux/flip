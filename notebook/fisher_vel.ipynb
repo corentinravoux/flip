{
 "cells": [
  {
   "cell_type": "code",
   "execution_count": 1,
   "id": "681b704a-ecb1-4f32-b411-cd2b5c47a8c2",
   "metadata": {
    "tags": []
   },
   "outputs": [
    {
     "name": "stderr",
     "output_type": "stream",
     "text": [
      "[ 000000.00 ]: 06-09 10:34  root            INFO     No pypower module detected, gridding with this method is unavailable\n",
      "[ 000000.07 ]: 06-09 10:34  jax._src.xla_bridge INFO     Unable to initialize backend 'rocm': module 'jaxlib.xla_extension' has no attribute 'GpuAllocatorConfig'\n",
      "[ 000000.07 ]: 06-09 10:34  jax._src.xla_bridge INFO     Unable to initialize backend 'tpu': INTERNAL: Failed to open libtpu.so: libtpu.so: cannot open shared object file: No such file or directory\n"
     ]
    }
   ],
   "source": [
    "import os\n",
    "\n",
    "import numpy as np\n",
    "import pandas as pd\n",
    "from pathlib import Path\n",
    "\n",
    "from flip import fisher, utils, data_vector, __flip_dir_path__\n",
    "from flip.covariance import covariance\n",
    "\n",
    "\n",
    "flip_base = Path(__flip_dir_path__)\n",
    "data_path = flip_base / 'data'"
   ]
  },
  {
   "cell_type": "code",
   "execution_count": 2,
   "id": "387ba8d3-a9cc-4d2e-9a80-03043a82783b",
   "metadata": {
    "tags": []
   },
   "outputs": [],
   "source": [
    "sn_data = pd.read_parquet(data_path / \"velocity_data.parquet\")"
   ]
  },
  {
   "cell_type": "code",
   "execution_count": 3,
   "id": "1362a094-9198-41a0-8000-7e87244dde70",
   "metadata": {
    "tags": []
   },
   "outputs": [],
   "source": [
    "sn_data = sn_data[np.array(sn_data[\"status\"]) != False]\n",
    "sn_data = sn_data[np.array(sn_data[\"status\"]) != None]"
   ]
  },
  {
   "cell_type": "code",
   "execution_count": 4,
   "id": "57b26c7a-ac8a-45b9-99e0-e18dc469a102",
   "metadata": {
    "tags": []
   },
   "outputs": [],
   "source": [
    "sn_data[\"dmu_error\"] = np.random.normal(0, 0.1, len(sn_data))"
   ]
  },
  {
   "cell_type": "code",
   "execution_count": 5,
   "id": "91f7e242-97d8-44bb-b136-2501d8e1e0eb",
   "metadata": {
    "tags": []
   },
   "outputs": [
    {
     "name": "stdout",
     "output_type": "stream",
     "text": [
      "Data free parameters:  ['sigma_M']\n"
     ]
    }
   ],
   "source": [
    "DataFisher = data_vector.FisherVelFromHDres(sn_data.to_dict(orient='list'))\n",
    "print(\"Data free parameters: \", DataFisher.free_par)\n"
   ]
  },
  {
   "cell_type": "code",
   "execution_count": 6,
   "id": "735094e5-b2a4-4ac3-970b-4916be6a1686",
   "metadata": {
    "tags": []
   },
   "outputs": [
    {
     "name": "stderr",
     "output_type": "stream",
     "text": [
      "/hpc/group/cosmology/blc56/miniconda3/envs/flip/lib/python3.10/multiprocessing/popen_fork.py:66: RuntimeWarning: os.fork() was called. os.fork() is incompatible with multithreaded code, and JAX is multithreaded, so this will likely lead to a deadlock.\n",
      "  self.pid = os.fork()\n",
      "[ 000000.72 ]: 06-09 10:34  root            INFO     Covariance matrix generated from flip with rcrk24 model in 1.78e+00 seconds\n",
      "[ 000000.74 ]: 06-09 10:34  root            INFO     Use self.init_covariance_sum before using self.compute_covariance_sum.\n"
     ]
    },
    {
     "name": "stdout",
     "output_type": "stream",
     "text": [
      "Covariance free parameters:  ['Om0', 'gamma', 'sigv']\n"
     ]
    }
   ],
   "source": [
    "ktt, ptt = np.loadtxt(data_path / \"power_spectrum_tt.txt\")\n",
    "kmt, pmt = np.loadtxt(data_path / \"power_spectrum_mt.txt\")\n",
    "kmm, pmm = np.loadtxt(data_path / \"power_spectrum_mm.txt\")\n",
    "sigmau_fiducial = 15\n",
    "\n",
    "power_spectrum_dict = {\"vv\": [[ktt, ptt * utils.Du(ktt, sigmau_fiducial) ** 2]]}\n",
    "\n",
    "### Compute covariance\n",
    "size_batch = 10_000\n",
    "number_worker = 16\n",
    "\n",
    "covariance_fit = DataFisher.compute_covariance(\n",
    "    \"rcrk24\",\n",
    "    power_spectrum_dict,\n",
    "    size_batch=size_batch,\n",
    "    number_worker=number_worker,\n",
    "    variant = 'growth_index'\n",
    ")\n",
    "print(\"Covariance free parameters: \", covariance_fit.free_par)\n"
   ]
  },
  {
   "cell_type": "code",
   "execution_count": 7,
   "id": "56cffe25-d883-450d-b777-b52dbcace973",
   "metadata": {
    "tags": []
   },
   "outputs": [],
   "source": [
    "fisher_properties = {\n",
    "    \"inversion_method\": \"inverse\",\n",
    "}\n"
   ]
  },
  {
   "cell_type": "code",
   "execution_count": 8,
   "id": "10cd0f36-0c81-4230-937a-3813e7a63813",
   "metadata": {
    "tags": []
   },
   "outputs": [],
   "source": [
    "parameter_dict = {\n",
    "    \"gamma\": 0.55,\n",
    "    \"Om0\": 0.3,\n",
    "    \"sigv\": 200,\n",
    "    \"sigma_M\": 0.12\n",
    "}\n",
    "\n",
    "Fisher = fisher.FisherMatrix.init_from_covariance(\n",
    "    covariance_fit,\n",
    "    DataFisher,\n",
    "    parameter_dict,\n",
    "    fisher_properties=fisher_properties,\n",
    ")\n",
    "\n",
    "parameter_name_list, fisher_matrix = Fisher.compute_fisher_matrix()\n",
    "\n",
    "ERR = np.sqrt(np.diag(np.linalg.pinv(fisher_matrix)))"
   ]
  },
  {
   "cell_type": "code",
   "execution_count": 9,
   "id": "df04ade7-7115-4435-a8ea-c80df6f86f9d",
   "metadata": {
    "tags": []
   },
   "outputs": [
    {
     "name": "stdout",
     "output_type": "stream",
     "text": [
      "Fisher error on Omegam = 5.6934\n",
      "Fisher error on gamma = 9.6916\n"
     ]
    }
   ],
   "source": [
    "for p, e in zip(parameter_name_list, ERR):\n",
    "    print(f\"Fisher error on {p} = {e:.4f}\")"
   ]
  }
 ],
 "metadata": {
  "kernelspec": {
   "display_name": "flip",
   "language": "python",
   "name": "flip"
  },
  "language_info": {
   "codemirror_mode": {
    "name": "ipython",
    "version": 3
   },
   "file_extension": ".py",
   "mimetype": "text/x-python",
   "name": "python",
   "nbconvert_exporter": "python",
   "pygments_lexer": "ipython3",
   "version": "3.10.14"
  }
 },
 "nbformat": 4,
 "nbformat_minor": 5
}
