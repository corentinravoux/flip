{
 "cells": [
  {
   "cell_type": "markdown",
   "id": "7aabe887-f8b3-4038-bdaf-325749124687",
   "metadata": {},
   "source": [
    "This is a tutorial to use the flip package: https://github.com/corentinravoux/flip \\\n",
    "It is self-contained and can be used in google collab or on your environement \\\n",
    "All the data used are subsampled version of a simulation. \\\n",
    "The data size is small for the tutorial, do not use it for science case."
   ]
  },
  {
   "cell_type": "code",
   "execution_count": 1,
   "id": "7e1da453-ef47-4920-b330-a7d9289e2f01",
   "metadata": {
    "tags": []
   },
   "outputs": [
    {
     "name": "stderr",
     "output_type": "stream",
     "text": [
      "[ 000000.00 ]: 06-09 16:10  root            INFO     No pypower module detected, gridding with this method is unavailable\n",
      "[ 000000.07 ]: 06-09 16:10  jax._src.xla_bridge INFO     Unable to initialize backend 'rocm': module 'jaxlib.xla_extension' has no attribute 'GpuAllocatorConfig'\n",
      "[ 000000.07 ]: 06-09 16:10  jax._src.xla_bridge INFO     Unable to initialize backend 'tpu': INTERNAL: Failed to open libtpu.so: libtpu.so: cannot open shared object file: No such file or directory\n"
     ]
    }
   ],
   "source": [
    "import numpy as np\n",
    "import pandas as pd\n",
    "import matplotlib.pyplot as plt\n",
    "\n",
    "from pathlib import Path\n",
    "from flip import fitter, plot_utils, utils, data_vector, __flip_dir_path__\n",
    "from flip.covariance import covariance, contraction\n",
    "\n",
    "flip_base = Path(__flip_dir_path__)\n",
    "data_path = flip_base / \"data\"\n",
    "plt.style.use(data_path / \"style.mplstyle\")"
   ]
  },
  {
   "cell_type": "markdown",
   "id": "0be64efd-4cff-4190-9b1d-4561e68be2fd",
   "metadata": {
    "tags": []
   },
   "source": [
    "# Select data"
   ]
  },
  {
   "cell_type": "code",
   "execution_count": 2,
   "id": "cd42c9d5-e123-4488-9fea-d87bc916771e",
   "metadata": {
    "tags": []
   },
   "outputs": [],
   "source": [
    "# Density data\n",
    "grid = pd.read_parquet(data_path / \"density_data.parquet\")\n",
    "grid_window = pd.read_parquet(data_path / \"grid_window_m.parquet\")\n",
    "coordinates_density = np.array([grid[\"ra\"], grid[\"dec\"], grid[\"rcom\"]])\n",
    "data_density = {'density': np.array(grid[\"density\"]), \n",
    "                'density_error': np.array(grid[\"density_err\"])}\n",
    "\n",
    "DataDensity = data_vector.Dens(grid.rename(columns={'density_err': 'density_error', 'rcom': 'rcom_zobs'}).to_dict(orient='list'))\n",
    "\n",
    "\n",
    "# Velocity data\n",
    "sn_data = pd.read_parquet(data_path / \"velocity_data.parquet\")\n",
    "\n",
    "coordinates_velocity = np.array([sn_data[\"ra\"], sn_data[\"dec\"], sn_data[\"rcom_zobs\"]])\n",
    "data_velocity = sn_data.to_dict(\"list\")\n",
    "for key in data_velocity.keys():\n",
    "    data_velocity[key] = np.array(data_velocity[key])\n",
    "data_velocity[\"velocity\"] = data_velocity.pop(\"vpec\")\n",
    "data_velocity[\"velocity_error\"] = np.zeros_like(data_velocity[\"velocity\"])\n",
    "\n",
    "data_velocity_true = {**sn_data.rename(columns={'vpec': 'velocity'}).to_dict(orient='list'), \n",
    "                      \"velocity_error\": np.zeros(len(sn_data[\"vpec\"].values))}\n",
    "\n",
    "\n",
    "# Create the True Vel data vector\n",
    "DataTrueVel = data_vector.DirectVel(data_velocity_true)\n",
    "\n",
    "# Create the Vel data vector\n",
    "DataVel = data_vector.snia_vectors.VelFromSALTfit(sn_data.to_dict(orient='list'), velocity_estimator='full', h=0.7)\n",
    "\n",
    "data_full = {}\n",
    "data_full.update(data_density)\n",
    "data_full.update(data_velocity)\n",
    "\n",
    "DensTrueVel = data_vector.DensVel(DataDensity, DataTrueVel)\n",
    "\n",
    "\n",
    "sigmau_fiducial = 15.0\n",
    "sigmag_fiducial = 3.0\n",
    "\n",
    "ktt, ptt = np.loadtxt(data_path / \"power_spectrum_tt.txt\")\n",
    "kmt, pmt = np.loadtxt(data_path / \"power_spectrum_mt.txt\")\n",
    "kmm, pmm = np.loadtxt(data_path / \"power_spectrum_mm.txt\")\n",
    "power_spectrum_dict_bias = {\"gg\": [[kmm, pmm * np.array(grid_window[\"window_mm\"])**2]]}\n",
    "power_spectrum_dict = {\"gg\": [[kmm, pmm * np.array(grid_window[\"window_mm\"])**2],[kmt, pmt * np.array(grid_window[\"window_mt\"])],[ktt, ptt]],\n",
    "                       \"gv\": [[kmt, pmt * np.array(grid_window[\"window_mt\"])* utils.Du(kmt, sigmau_fiducial)],[ktt, ptt* utils.Du(kmt, sigmau_fiducial)]],\n",
    "                       \"vv\": [[ktt, ptt * utils.Du(ktt, sigmau_fiducial)**2]]}"
   ]
  },
  {
   "cell_type": "markdown",
   "id": "9e0ea8a3-4d4e-4d08-9929-3566f51946d0",
   "metadata": {},
   "source": [
    "# Fit with true velocities"
   ]
  },
  {
   "cell_type": "code",
   "execution_count": 3,
   "id": "6e82052e-7f06-471b-ada6-6cfc57c98803",
   "metadata": {
    "tags": []
   },
   "outputs": [
    {
     "name": "stderr",
     "output_type": "stream",
     "text": [
      "/hpc/group/cosmology/blc56/miniconda3/envs/flip/lib/python3.10/multiprocessing/popen_fork.py:66: RuntimeWarning: os.fork() was called. os.fork() is incompatible with multithreaded code, and JAX is multithreaded, so this will likely lead to a deadlock.\n",
      "  self.pid = os.fork()\n",
      "[ 000031.70 ]: 06-09 16:10  root            INFO     Covariance matrix generated from flip with adamsblake20 model in 3.11e+01 seconds\n",
      "[ 000031.71 ]: 06-09 16:10  root            INFO     Use self.init_covariance_sum before using self.compute_covariance_sum.\n"
     ]
    }
   ],
   "source": [
    "size_batch=10_000\n",
    "number_worker=8\n",
    "\n",
    "covariance_fit= DensTrueVel.compute_covariance(\n",
    "                        \"adamsblake20\", \n",
    "                        power_spectrum_dict,\n",
    "                        size_batch=size_batch, number_worker=number_worker, \n",
    "                        additional_parameters_values=(sigmag_fiducial,))"
   ]
  },
  {
   "cell_type": "code",
   "execution_count": 26,
   "id": "6b281d74-0bdf-4b8b-b2e4-0eee0ee4a373",
   "metadata": {
    "tags": []
   },
   "outputs": [
    {
     "name": "stdout",
     "output_type": "stream",
     "text": [
      "Free parameters are: ['bs8', 'beta_f', 'sigv', 'fs8']\n"
     ]
    },
    {
     "ename": "KeyboardInterrupt",
     "evalue": "",
     "output_type": "error",
     "traceback": [
      "\u001b[0;31m---------------------------------------------------------------------------\u001b[0m",
      "\u001b[0;31mKeyboardInterrupt\u001b[0m                         Traceback (most recent call last)",
      "Cell \u001b[0;32mIn[26], line 34\u001b[0m\n\u001b[1;32m     24\u001b[0m minuit_fitter \u001b[38;5;241m=\u001b[39m fitter\u001b[38;5;241m.\u001b[39mFitMinuit\u001b[38;5;241m.\u001b[39minit_from_covariance(\n\u001b[1;32m     25\u001b[0m         covariance_fit,\n\u001b[1;32m     26\u001b[0m         DensTrueVel,\n\u001b[0;32m   (...)\u001b[0m\n\u001b[1;32m     29\u001b[0m         likelihood_properties \u001b[38;5;241m=\u001b[39m likelihood_properties\n\u001b[1;32m     30\u001b[0m )\n\u001b[1;32m     32\u001b[0m \u001b[38;5;28mprint\u001b[39m(\u001b[38;5;124m'\u001b[39m\u001b[38;5;124mFree parameters are:\u001b[39m\u001b[38;5;124m'\u001b[39m, minuit_fitter\u001b[38;5;241m.\u001b[39mlikelihood\u001b[38;5;241m.\u001b[39mfree_par)\n\u001b[0;32m---> 34\u001b[0m \u001b[43mminuit_fitter\u001b[49m\u001b[38;5;241;43m.\u001b[39;49m\u001b[43mrun\u001b[49m\u001b[43m(\u001b[49m\u001b[43m)\u001b[49m\n",
      "File \u001b[0;32m/hpc/group/cosmology/blc56/Soft/flip/flip/fitter.py:323\u001b[0m, in \u001b[0;36mFitMinuit.run\u001b[0;34m(self, migrad, hesse, minos, n_iter)\u001b[0m\n\u001b[1;32m    321\u001b[0m         \u001b[38;5;28;01mif\u001b[39;00m n_iter \u001b[38;5;241m!=\u001b[39m \u001b[38;5;241m1\u001b[39m:\n\u001b[1;32m    322\u001b[0m             log\u001b[38;5;241m.\u001b[39madd(\u001b[38;5;124mf\u001b[39m\u001b[38;5;124m\"\u001b[39m\u001b[38;5;124mIteration \u001b[39m\u001b[38;5;132;01m{\u001b[39;00mi\u001b[38;5;241m+\u001b[39m\u001b[38;5;241m1\u001b[39m\u001b[38;5;132;01m}\u001b[39;00m\u001b[38;5;124m/\u001b[39m\u001b[38;5;132;01m{\u001b[39;00mn_iter\u001b[38;5;132;01m}\u001b[39;00m\u001b[38;5;130;01m\\n\u001b[39;00m\u001b[38;5;124m\"\u001b[39m)\n\u001b[0;32m--> 323\u001b[0m         log\u001b[38;5;241m.\u001b[39madd(\u001b[38;5;28;43mself\u001b[39;49m\u001b[38;5;241;43m.\u001b[39;49m\u001b[43mminuit\u001b[49m\u001b[38;5;241;43m.\u001b[39;49m\u001b[43mmigrad\u001b[49m\u001b[43m(\u001b[49m\u001b[43m)\u001b[49m)\n\u001b[1;32m    324\u001b[0m \u001b[38;5;28;01mif\u001b[39;00m hesse:\n\u001b[1;32m    325\u001b[0m     log\u001b[38;5;241m.\u001b[39madd(\u001b[38;5;28mself\u001b[39m\u001b[38;5;241m.\u001b[39mminuit\u001b[38;5;241m.\u001b[39mhesse())\n",
      "File \u001b[0;32m/hpc/group/cosmology/blc56/miniconda3/envs/flip/lib/python3.10/site-packages/iminuit/minuit.py:789\u001b[0m, in \u001b[0;36mMinuit.migrad\u001b[0;34m(self, ncall, iterate, use_simplex)\u001b[0m\n\u001b[1;32m    787\u001b[0m t \u001b[38;5;241m=\u001b[39m mutil\u001b[38;5;241m.\u001b[39m_Timer(\u001b[38;5;28mself\u001b[39m\u001b[38;5;241m.\u001b[39m_fmin)\n\u001b[1;32m    788\u001b[0m \u001b[38;5;28;01mwith\u001b[39;00m t:\n\u001b[0;32m--> 789\u001b[0m     fm \u001b[38;5;241m=\u001b[39m \u001b[43m_robust_low_level_fit\u001b[49m\u001b[43m(\u001b[49m\n\u001b[1;32m    790\u001b[0m \u001b[43m        \u001b[49m\u001b[38;5;28;43mself\u001b[39;49m\u001b[38;5;241;43m.\u001b[39;49m\u001b[43m_fcn\u001b[49m\u001b[43m,\u001b[49m\n\u001b[1;32m    791\u001b[0m \u001b[43m        \u001b[49m\u001b[38;5;28;43mself\u001b[39;49m\u001b[38;5;241;43m.\u001b[39;49m\u001b[43m_last_state\u001b[49m\u001b[43m,\u001b[49m\n\u001b[1;32m    792\u001b[0m \u001b[43m        \u001b[49m\u001b[43mreplace_none\u001b[49m\u001b[43m(\u001b[49m\u001b[43mncall\u001b[49m\u001b[43m,\u001b[49m\u001b[43m \u001b[49m\u001b[38;5;241;43m0\u001b[39;49m\u001b[43m)\u001b[49m\u001b[43m,\u001b[49m\n\u001b[1;32m    793\u001b[0m \u001b[43m        \u001b[49m\u001b[38;5;28;43mself\u001b[39;49m\u001b[38;5;241;43m.\u001b[39;49m\u001b[43m_strategy\u001b[49m\u001b[43m,\u001b[49m\n\u001b[1;32m    794\u001b[0m \u001b[43m        \u001b[49m\u001b[38;5;28;43mself\u001b[39;49m\u001b[38;5;241;43m.\u001b[39;49m\u001b[43m_tolerance\u001b[49m\u001b[43m,\u001b[49m\n\u001b[1;32m    795\u001b[0m \u001b[43m        \u001b[49m\u001b[38;5;28;43mself\u001b[39;49m\u001b[38;5;241;43m.\u001b[39;49m\u001b[43m_precision\u001b[49m\u001b[43m,\u001b[49m\n\u001b[1;32m    796\u001b[0m \u001b[43m        \u001b[49m\u001b[43miterate\u001b[49m\u001b[43m,\u001b[49m\n\u001b[1;32m    797\u001b[0m \u001b[43m        \u001b[49m\u001b[43muse_simplex\u001b[49m\u001b[43m,\u001b[49m\n\u001b[1;32m    798\u001b[0m \u001b[43m    \u001b[49m\u001b[43m)\u001b[49m\n\u001b[1;32m    800\u001b[0m \u001b[38;5;28mself\u001b[39m\u001b[38;5;241m.\u001b[39m_last_state \u001b[38;5;241m=\u001b[39m fm\u001b[38;5;241m.\u001b[39mstate\n\u001b[1;32m    802\u001b[0m \u001b[38;5;28mself\u001b[39m\u001b[38;5;241m.\u001b[39m_fmin \u001b[38;5;241m=\u001b[39m mutil\u001b[38;5;241m.\u001b[39mFMin(\n\u001b[1;32m    803\u001b[0m     fm,\n\u001b[1;32m    804\u001b[0m     \u001b[38;5;124m\"\u001b[39m\u001b[38;5;124mMigrad\u001b[39m\u001b[38;5;124m\"\u001b[39m,\n\u001b[0;32m   (...)\u001b[0m\n\u001b[1;32m    809\u001b[0m     t\u001b[38;5;241m.\u001b[39mvalue,\n\u001b[1;32m    810\u001b[0m )\n",
      "File \u001b[0;32m/hpc/group/cosmology/blc56/miniconda3/envs/flip/lib/python3.10/site-packages/iminuit/minuit.py:2944\u001b[0m, in \u001b[0;36m_robust_low_level_fit\u001b[0;34m(fcn, state, ncall, strategy, tolerance, precision, iterate, use_simplex)\u001b[0m\n\u001b[1;32m   2942\u001b[0m \u001b[38;5;28;01mif\u001b[39;00m precision \u001b[38;5;129;01mis\u001b[39;00m \u001b[38;5;129;01mnot\u001b[39;00m \u001b[38;5;28;01mNone\u001b[39;00m:\n\u001b[1;32m   2943\u001b[0m     migrad\u001b[38;5;241m.\u001b[39mprecision \u001b[38;5;241m=\u001b[39m precision\n\u001b[0;32m-> 2944\u001b[0m fm \u001b[38;5;241m=\u001b[39m \u001b[43mmigrad\u001b[49m\u001b[43m(\u001b[49m\u001b[43mncall\u001b[49m\u001b[43m,\u001b[49m\u001b[43m \u001b[49m\u001b[43mtolerance\u001b[49m\u001b[43m)\u001b[49m\n\u001b[1;32m   2945\u001b[0m strategy \u001b[38;5;241m=\u001b[39m MnStrategy(\u001b[38;5;241m2\u001b[39m)\n\u001b[1;32m   2946\u001b[0m migrad \u001b[38;5;241m=\u001b[39m MnMigrad(fcn, fm\u001b[38;5;241m.\u001b[39mstate, strategy)\n",
      "File \u001b[0;32m/hpc/group/cosmology/blc56/Soft/flip/flip/likelihood.py:172\u001b[0m, in \u001b[0;36mBaseLikelihood.__call__\u001b[0;34m(self, parameter_values)\u001b[0m\n\u001b[1;32m    171\u001b[0m \u001b[38;5;28;01mdef\u001b[39;00m \u001b[38;5;21m__call__\u001b[39m(\u001b[38;5;28mself\u001b[39m, parameter_values):\n\u001b[0;32m--> 172\u001b[0m     \u001b[38;5;28;01mreturn\u001b[39;00m \u001b[38;5;28;43mself\u001b[39;49m\u001b[38;5;241;43m.\u001b[39;49m\u001b[43mlikelihood_call\u001b[49m\u001b[43m(\u001b[49m\u001b[43mparameter_values\u001b[49m\u001b[43m)\u001b[49m\n",
      "File \u001b[0;32m/hpc/group/cosmology/blc56/Soft/flip/flip/likelihood.py:303\u001b[0m, in \u001b[0;36mMultivariateGaussianLikelihood._init_likelihood.<locals>.likelihood_evaluation\u001b[0;34m(parameter_values, neg_like)\u001b[0m\n\u001b[1;32m    301\u001b[0m vector, vector_variance \u001b[38;5;241m=\u001b[39m give_data_and_variance(parameter_values_dict)\n\u001b[1;32m    302\u001b[0m covariance_sum \u001b[38;5;241m=\u001b[39m compute_covariance_sum(parameter_values_dict, vector_variance)\n\u001b[0;32m--> 303\u001b[0m likelihood_value \u001b[38;5;241m=\u001b[39m \u001b[43mlikelihood_function\u001b[49m\u001b[43m(\u001b[49m\u001b[43mvector\u001b[49m\u001b[43m,\u001b[49m\u001b[43m \u001b[49m\u001b[43mcovariance_sum\u001b[49m\u001b[43m)\u001b[49m \u001b[38;5;241m+\u001b[39m prior(parameter_values_dict)\n\u001b[1;32m    305\u001b[0m \u001b[38;5;28;01mif\u001b[39;00m neg_like:\n\u001b[1;32m    306\u001b[0m     likelihood_value \u001b[38;5;241m*\u001b[39m\u001b[38;5;241m=\u001b[39m \u001b[38;5;241m-\u001b[39m\u001b[38;5;241m1\u001b[39m\n",
      "File \u001b[0;32m/hpc/group/cosmology/blc56/Soft/flip/flip/likelihood.py:67\u001b[0m, in \u001b[0;36mlog_likelihood_gaussian_cholesky\u001b[0;34m(vector, covariance_sum)\u001b[0m\n\u001b[1;32m     66\u001b[0m \u001b[38;5;28;01mdef\u001b[39;00m \u001b[38;5;21mlog_likelihood_gaussian_cholesky\u001b[39m(vector, covariance_sum):\n\u001b[0;32m---> 67\u001b[0m     cholesky \u001b[38;5;241m=\u001b[39m \u001b[43mjsc\u001b[49m\u001b[38;5;241;43m.\u001b[39;49m\u001b[43mlinalg\u001b[49m\u001b[38;5;241;43m.\u001b[39;49m\u001b[43mcho_factor\u001b[49m\u001b[43m(\u001b[49m\u001b[43mcovariance_sum\u001b[49m\u001b[43m)\u001b[49m\n\u001b[1;32m     68\u001b[0m     logdet \u001b[38;5;241m=\u001b[39m \u001b[38;5;241m2\u001b[39m \u001b[38;5;241m*\u001b[39m jnp\u001b[38;5;241m.\u001b[39msum(jnp\u001b[38;5;241m.\u001b[39mlog(jnp\u001b[38;5;241m.\u001b[39mdiag(cholesky[\u001b[38;5;241m0\u001b[39m])))\n\u001b[1;32m     69\u001b[0m     chi2 \u001b[38;5;241m=\u001b[39m jnp\u001b[38;5;241m.\u001b[39mdot(vector, jsc\u001b[38;5;241m.\u001b[39mlinalg\u001b[38;5;241m.\u001b[39mcho_solve(cholesky, vector))\n",
      "File \u001b[0;32m/hpc/group/cosmology/blc56/miniconda3/envs/flip/lib/python3.10/site-packages/jax/_src/scipy/linalg.py:154\u001b[0m, in \u001b[0;36mcho_factor\u001b[0;34m(***failed resolving arguments***)\u001b[0m\n\u001b[1;32m    111\u001b[0m \u001b[38;5;250m\u001b[39m\u001b[38;5;124;03m\"\"\"Factorization for Cholesky-based linear solves\u001b[39;00m\n\u001b[1;32m    112\u001b[0m \n\u001b[1;32m    113\u001b[0m \u001b[38;5;124;03mJAX implementation of :func:`scipy.linalg.cho_factor`. This function returns\u001b[39;00m\n\u001b[0;32m   (...)\u001b[0m\n\u001b[1;32m    151\u001b[0m \u001b[38;5;124;03m  Array(True, dtype=bool)\u001b[39;00m\n\u001b[1;32m    152\u001b[0m \u001b[38;5;124;03m\"\"\"\u001b[39;00m\n\u001b[1;32m    153\u001b[0m \u001b[38;5;28;01mdel\u001b[39;00m overwrite_a, check_finite  \u001b[38;5;66;03m# Unused\u001b[39;00m\n\u001b[0;32m--> 154\u001b[0m \u001b[38;5;28;01mreturn\u001b[39;00m (\u001b[43mcholesky\u001b[49m\u001b[43m(\u001b[49m\u001b[43ma\u001b[49m\u001b[43m,\u001b[49m\u001b[43m \u001b[49m\u001b[43mlower\u001b[49m\u001b[38;5;241;43m=\u001b[39;49m\u001b[43mlower\u001b[49m\u001b[43m)\u001b[49m, lower)\n",
      "File \u001b[0;32m/hpc/group/cosmology/blc56/miniconda3/envs/flip/lib/python3.10/site-packages/jax/_src/scipy/linalg.py:106\u001b[0m, in \u001b[0;36mcholesky\u001b[0;34m(***failed resolving arguments***)\u001b[0m\n\u001b[1;32m     51\u001b[0m \u001b[38;5;250m\u001b[39m\u001b[38;5;124;03m\"\"\"Compute the Cholesky decomposition of a matrix.\u001b[39;00m\n\u001b[1;32m     52\u001b[0m \n\u001b[1;32m     53\u001b[0m \u001b[38;5;124;03mJAX implementation of :func:`scipy.linalg.cholesky`.\u001b[39;00m\n\u001b[0;32m   (...)\u001b[0m\n\u001b[1;32m    103\u001b[0m \u001b[38;5;124;03m  Array(True, dtype=bool)\u001b[39;00m\n\u001b[1;32m    104\u001b[0m \u001b[38;5;124;03m\"\"\"\u001b[39;00m\n\u001b[1;32m    105\u001b[0m \u001b[38;5;28;01mdel\u001b[39;00m overwrite_a, check_finite  \u001b[38;5;66;03m# Unused\u001b[39;00m\n\u001b[0;32m--> 106\u001b[0m \u001b[38;5;28;01mreturn\u001b[39;00m \u001b[43m_cholesky\u001b[49m\u001b[43m(\u001b[49m\u001b[43ma\u001b[49m\u001b[43m,\u001b[49m\u001b[43m \u001b[49m\u001b[43mlower\u001b[49m\u001b[43m)\u001b[49m\n",
      "\u001b[0;31mKeyboardInterrupt\u001b[0m: "
     ]
    }
   ],
   "source": [
    "likelihood_type=\"multivariate_gaussian\"\n",
    "likelihood_properties = {\"inversion_method\": \"cholesky\", \"use\"}\n",
    "\n",
    "\n",
    "parameter_dict = {\"bs8\": {\"value\": 1.0,\n",
    "                          \"limit_low\" : 0.0,\n",
    "                          \"fixed\" : False,\n",
    "                         },\n",
    "                  \"fs8\": {\"value\": 0.4,\n",
    "                          \"limit_low\" : 0.0,\n",
    "                          \"fixed\" : False,\n",
    "                         },\n",
    "                  \"beta_f\": {\"value\": 0.4,\n",
    "                          \"limit_low\" : 0.0,\n",
    "                          \"fixed\" : False,\n",
    "                         },\n",
    "                  \"sigv\": {\"value\": 100,\n",
    "                          \"limit_low\" : 0.0,\n",
    "                          \"fixed\" : False,\n",
    "                         },\n",
    "                 }\n",
    "\n",
    "\n",
    "minuit_fitter = fitter.FitMinuit.init_from_covariance(\n",
    "        covariance_fit,\n",
    "        DensTrueVel,\n",
    "        parameter_dict,\n",
    "        likelihood_type = likelihood_type,\n",
    "        likelihood_properties = likelihood_properties\n",
    ")\n",
    "\n",
    "print('Free parameters are:', minuit_fitter.likelihood.free_par)\n",
    "\n",
    "minuit_fitter.run()"
   ]
  },
  {
   "cell_type": "markdown",
   "id": "5516a8f1-0992-47ad-bcd2-60b2d6bd4a06",
   "metadata": {},
   "source": [
    "# Fit with estimated velocities"
   ]
  },
  {
   "cell_type": "code",
   "execution_count": null,
   "id": "e1ca7372-77ed-44ef-a2b7-fdb38ee391a7",
   "metadata": {
    "tags": []
   },
   "outputs": [],
   "source": [
    "test_parameters = {\"alpha\":0.14,\n",
    "                   \"beta\": 3.1,\n",
    "                   \"M_0\": -19.133,\n",
    "                   \"sigma_M\": 0.12}\n",
    "\n",
    "velocity, velocity_error = DataVel(test_parameters)\n",
    "\n",
    "mask = np.abs(velocity) < 3_000\n",
    "mask &= np.sqrt(velocity_error) < 3_000\n",
    "\n",
    "data_clean, _ = DataVel.get_masked_data_and_cov(mask)   \n",
    "\n",
    "\n",
    "DataVelCleaned = data_vector.snia_vectors.VelFromSALTfit(data_clean, \n",
    "                                                         velocity_estimator='full', \n",
    "                                                         h=0.7)\n",
    "\n",
    "DataDensVel = data_vector.DensVel(DataDensity, DataVelCleaned)"
   ]
  },
  {
   "cell_type": "code",
   "execution_count": null,
   "id": "298996f9-8661-4ae7-b9d6-00e9b01ba058",
   "metadata": {
    "tags": []
   },
   "outputs": [],
   "source": [
    "size_batch=10_000\n",
    "number_worker=8\n",
    "\n",
    "covariance_fit = DataDensVel.compute_covariance(\n",
    "    \"adamsblake20\", \n",
    "    power_spectrum_dict,\n",
    "    size_batch=size_batch,\n",
    "    number_worker=number_worker,\n",
    "    additional_parameters_values=(sigmag_fiducial,)\n",
    ")"
   ]
  },
  {
   "cell_type": "code",
   "execution_count": null,
   "id": "a1bba03a-50d5-4e20-ad4f-17a447ac0452",
   "metadata": {
    "tags": []
   },
   "outputs": [],
   "source": [
    "likelihood_type=\"multivariate_gaussian\"\n",
    "likelihood_properties = {\"inversion_method\": \"inverse\"}\n",
    "\n",
    "parameter_dict = {\"bs8\": {\"value\": 1.0,\n",
    "                          \"limit_low\" : 0.0,\n",
    "                          \"fixed\" : False,\n",
    "                         },\n",
    "                  \"fs8\": {\"value\": 0.4,\n",
    "                          \"limit_low\" : 0.0,\n",
    "                          \"fixed\" : False,\n",
    "                         },\n",
    "                  \"beta_f\": {\"value\": 0.4,\n",
    "                          \"limit_low\" : 0.0,\n",
    "                          \"fixed\" : False,\n",
    "                         },\n",
    "                  \"sigv\": {\"value\": 100,\n",
    "                          \"limit_low\" : 0.0,\n",
    "                          \"fixed\" : False,\n",
    "                         },\n",
    "                  \"alpha\": {\"value\": 0.1,\n",
    "                          \"limit_low\" : 0.0,\n",
    "                          \"limit_up\" : 0.25,\n",
    "                          \"fixed\" : False,\n",
    "                         },\n",
    "                  \"beta\": {\"value\": 3.0,\n",
    "                          \"limit_low\" : 2.5,\n",
    "                          \"limit_up\" : 4.5,\n",
    "                          \"fixed\" : False,\n",
    "                         },\n",
    "                  \"M_0\": {\"value\": -19,\n",
    "                          \"limit_low\" : -21,\n",
    "                          \"limit_up\" : -18,\n",
    "                          \"fixed\" : False,\n",
    "                         },\n",
    "                  \"sigma_M\": {\"value\": 0.1,\n",
    "                          \"limit_low\" : 0.0,\n",
    "                          \"limit_up\" : 100.0,\n",
    "                          \"fixed\" : False,\n",
    "                         },\n",
    "                 }\n",
    "\n",
    "\n",
    "minuit_fitter_velest = fitter.FitMinuit.init_from_covariance(\n",
    "        covariance_fit,\n",
    "        DataDensVel,\n",
    "        parameter_dict,\n",
    "        likelihood_type=likelihood_type,\n",
    "        likelihood_properties = likelihood_properties)\n",
    "\n",
    "print('Free parameters are:', minuit_fitter_velest.likelihood.free_par)\n",
    "\n",
    "minuit_fitter_velest.run()"
   ]
  },
  {
   "cell_type": "markdown",
   "id": "a89ff3ec-4ca6-48df-ae16-fb11b552894a",
   "metadata": {
    "tags": []
   },
   "source": [
    "# Some plots"
   ]
  },
  {
   "cell_type": "code",
   "execution_count": null,
   "id": "3088ef55-9fb1-4fe7-9a2f-afed3dd7d036",
   "metadata": {
    "tags": []
   },
   "outputs": [],
   "source": [
    "plot_utils.plot_correlation_from_likelihood(minuit_fitter_velest.likelihood,\n",
    "                                            parameter_dict,\n",
    "                                            vmin=-0.01,vmax=0.01)"
   ]
  },
  {
   "cell_type": "code",
   "execution_count": null,
   "id": "ce005b51-6391-4841-8901-9243d649918a",
   "metadata": {
    "tags": []
   },
   "outputs": [],
   "source": [
    "\n",
    "r_perpendicular = np.linspace(-200,200,200)\n",
    "r_parallel = np.linspace(-200,200,200)\n",
    "\n",
    "r_reference_parallel = 30 \n",
    "r_reference_perpendicular = 0 \n",
    "\n",
    "contraction_plot = contraction.Contraction.init_from_flip(\n",
    "    \"adamsblake20\",\n",
    "    \"full\",\n",
    "    power_spectrum_dict,\n",
    "    r_perpendicular,\n",
    "    r_parallel,\n",
    "    r_reference_perpendicular,\n",
    "    r_reference_parallel,\n",
    "    coordinate_type=\"rprt\",\n",
    "    additional_parameters_values=(sigmag_fiducial,),\n",
    ")\n",
    "\n",
    "parameter_values_dict = {parameters: parameter_dict[parameters][\"value\"] for parameters in parameter_dict}\n",
    "\n",
    "plot_utils.plot_2d_contraction(contraction_plot, \n",
    "                    parameter_values_dict, \n",
    "                    rs_multiplied = True)\n"
   ]
  },
  {
   "cell_type": "code",
   "execution_count": null,
   "id": "907ba148-f25d-4342-8ac9-4a31367bb9b0",
   "metadata": {},
   "outputs": [],
   "source": []
  }
 ],
 "metadata": {
  "kernelspec": {
   "display_name": "flip",
   "language": "python",
   "name": "flip"
  },
  "language_info": {
   "codemirror_mode": {
    "name": "ipython",
    "version": 3
   },
   "file_extension": ".py",
   "mimetype": "text/x-python",
   "name": "python",
   "nbconvert_exporter": "python",
   "pygments_lexer": "ipython3",
   "version": "3.10.14"
  }
 },
 "nbformat": 4,
 "nbformat_minor": 5
}
