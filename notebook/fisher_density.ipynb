{
 "cells": [
  {
   "cell_type": "code",
   "execution_count": 1,
   "id": "681b704a-ecb1-4f32-b411-cd2b5c47a8c2",
   "metadata": {
    "tags": []
   },
   "outputs": [
    {
     "name": "stderr",
     "output_type": "stream",
     "text": [
      "[ 000000.00 ]: 06-09 10:29  root            INFO     No pypower module detected, gridding with this method is unavailable\n",
      "[ 000000.11 ]: 06-09 10:29  jax._src.xla_bridge INFO     Unable to initialize backend 'rocm': module 'jaxlib.xla_extension' has no attribute 'GpuAllocatorConfig'\n",
      "[ 000000.12 ]: 06-09 10:29  jax._src.xla_bridge INFO     Unable to initialize backend 'tpu': INTERNAL: Failed to open libtpu.so: libtpu.so: cannot open shared object file: No such file or directory\n"
     ]
    }
   ],
   "source": [
    "import numpy as np\n",
    "import pandas as pd\n",
    "\n",
    "from pathlib import Path\n",
    "from flip import fisher, utils, data_vector, __flip_dir_path__\n",
    "from flip.covariance import covariance\n",
    "\n",
    "\n",
    "flip_base = Path(__flip_dir_path__)\n",
    "data_path = flip_base / 'data'"
   ]
  },
  {
   "cell_type": "code",
   "execution_count": 2,
   "id": "387ba8d3-a9cc-4d2e-9a80-03043a82783b",
   "metadata": {
    "tags": []
   },
   "outputs": [],
   "source": [
    "grid = pd.read_parquet(data_path / \"density_data.parquet\")\n",
    "grid_window = pd.read_parquet(data_path / \"grid_window_m.parquet\")\n",
    "\n",
    "ktt, ptt = np.loadtxt(data_path / \"power_spectrum_tt.txt\")\n",
    "kmt, pmt = np.loadtxt(data_path / \"power_spectrum_mt.txt\")\n",
    "kmm, pmm = np.loadtxt(data_path / \"power_spectrum_mm.txt\")\n",
    "\n",
    "sigmag_fiducial = 3.0\n",
    "\n",
    "power_spectrum_dict_bias = {\"gg\": [[kmm, pmm * np.array(grid_window[\"window_mm\"])**2]]}\n",
    "power_spectrum_dict = {\n",
    "    \"gg\": [\n",
    "        [kmm, pmm * np.array(grid_window[\"window_mm\"])**2],\n",
    "        [kmt, pmt * np.array(grid_window[\"window_mt\"])],\n",
    "        [ktt, ptt]\n",
    "    ]\n",
    "                      }"
   ]
  },
  {
   "cell_type": "code",
   "execution_count": 3,
   "id": "91f7e242-97d8-44bb-b136-2501d8e1e0eb",
   "metadata": {
    "tags": []
   },
   "outputs": [
    {
     "name": "stdout",
     "output_type": "stream",
     "text": [
      "Data free parameters:  []\n"
     ]
    }
   ],
   "source": [
    "DataFisher = data_vector.FisherDens(grid.rename(columns={'density_err': 'density_error', 'rcom': 'rcom_zobs'}).to_dict(orient='list'))\n",
    "print(\"Data free parameters: \", DataFisher.free_par)"
   ]
  },
  {
   "cell_type": "code",
   "execution_count": 4,
   "id": "ca83b99e-eec2-4469-ae55-d70fc508218e",
   "metadata": {
    "tags": []
   },
   "outputs": [
    {
     "name": "stderr",
     "output_type": "stream",
     "text": [
      "/hpc/group/cosmology/blc56/miniconda3/envs/flip/lib/python3.10/multiprocessing/popen_fork.py:66: RuntimeWarning: os.fork() was called. os.fork() is incompatible with multithreaded code, and JAX is multithreaded, so this will likely lead to a deadlock.\n",
      "  self.pid = os.fork()\n",
      "[ 000015.00 ]: 06-09 10:30  root            INFO     Covariance matrix generated from flip with adamsblake20 model in 1.58e+01 seconds\n",
      "[ 000015.00 ]: 06-09 10:30  root            INFO     Use self.init_covariance_sum before using self.compute_covariance_sum.\n"
     ]
    },
    {
     "name": "stdout",
     "output_type": "stream",
     "text": [
      "Covariance free parameters:  ['bs8', 'beta_f']\n"
     ]
    }
   ],
   "source": [
    "size_batch=10_000\n",
    "number_worker=8\n",
    "covariance_fit = DataFisher.compute_covariance(\"adamsblake20\", power_spectrum_dict, size_batch=size_batch, \n",
    "                                              number_worker=number_worker, additional_parameters_values=(sigmag_fiducial,))\n",
    "\n",
    "print(\"Covariance free parameters: \", covariance_fit.free_par)"
   ]
  },
  {
   "cell_type": "code",
   "execution_count": 5,
   "id": "56cffe25-d883-450d-b777-b52dbcace973",
   "metadata": {
    "tags": []
   },
   "outputs": [],
   "source": [
    "fisher_properties = {\n",
    "    \"inversion_method\": \"inverse\",\n",
    "}\n"
   ]
  },
  {
   "cell_type": "code",
   "execution_count": 6,
   "id": "10cd0f36-0c81-4230-937a-3813e7a63813",
   "metadata": {
    "tags": []
   },
   "outputs": [],
   "source": [
    "parameter_dict = {\n",
    "    \"bs8\": 0.8,\n",
    "    \"beta_f\": 0.3,\n",
    "}\n",
    "\n",
    "Fisher = fisher.FisherMatrix.init_from_covariance(\n",
    "    covariance_fit,\n",
    "    DataFisher,\n",
    "    parameter_dict,\n",
    "    fisher_properties=fisher_properties,\n",
    ")\n",
    "\n",
    "parameter_name_list, fisher_matrix = Fisher.compute_fisher_matrix()\n",
    "\n",
    "ERR = np.sqrt(np.diag(np.linalg.pinv(fisher_matrix)))"
   ]
  },
  {
   "cell_type": "code",
   "execution_count": 8,
   "id": "b957fa92-0217-4012-847b-fee9105bb717",
   "metadata": {
    "tags": []
   },
   "outputs": [
    {
     "name": "stdout",
     "output_type": "stream",
     "text": [
      "Fisher error on fs8 = 0.0000\n",
      "Fisher error on bs8 = 0.0322\n",
      "Fisher error on beta_f = 0.0761\n"
     ]
    }
   ],
   "source": [
    "for p, e in zip(parameter_name_list, ERR):\n",
    "    print(f\"Fisher error on {p} = {e:.4f}\")"
   ]
  }
 ],
 "metadata": {
  "kernelspec": {
   "display_name": "flip",
   "language": "python",
   "name": "flip"
  },
  "language_info": {
   "codemirror_mode": {
    "name": "ipython",
    "version": 3
   },
   "file_extension": ".py",
   "mimetype": "text/x-python",
   "name": "python",
   "nbconvert_exporter": "python",
   "pygments_lexer": "ipython3",
   "version": "3.10.14"
  }
 },
 "nbformat": 4,
 "nbformat_minor": 5
}
