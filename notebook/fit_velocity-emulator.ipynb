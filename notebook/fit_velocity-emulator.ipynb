{
 "cells": [
  {
   "cell_type": "markdown",
   "id": "71e15407-b85a-4152-858f-86087f5fae7d",
   "metadata": {},
   "source": [
    "This is a tutorial to use the flip package: https://github.com/corentinravoux/flip \\\n",
    "It is self-contained and can be used in google collab or on your environement \\\n",
    "All the data used are subsampled version of a simulation. \\\n",
    "The data size is small for the tutorial, do not use it for science case. \\"
   ]
  },
  {
   "cell_type": "code",
   "execution_count": 1,
   "id": "333ed9a3-09cb-4cc2-9a7f-333bc0e0af17",
   "metadata": {},
   "outputs": [],
   "source": [
    "%%capture\n",
    "!pip install git+https://github.com/corentinravoux/flip"
   ]
  },
  {
   "cell_type": "code",
   "execution_count": 2,
   "id": "7e1da453-ef47-4920-b330-a7d9289e2f01",
   "metadata": {
    "tags": []
   },
   "outputs": [
    {
     "name": "stderr",
     "output_type": "stream",
     "text": [
      "[ 000000.00 ]: 09-23 02:18  root            INFO     No pypower module detected, gridding with this method is unavailable\n",
      "ERROR:2025-09-23 02:18:09,792:jax._src.xla_bridge:502: Jax plugin configuration error: Exception when calling jax_plugins.xla_cuda13.initialize()\n",
      "Traceback (most recent call last):\n",
      "  File \"/global/homes/r/ravouxco/.local/perlmutter/python-3.11/lib/python3.11/site-packages/jax/_src/xla_bridge.py\", line 500, in discover_pjrt_plugins\n",
      "    plugin_module.initialize()\n",
      "  File \"/global/homes/r/ravouxco/.local/perlmutter/python-3.11/lib/python3.11/site-packages/jax_plugins/xla_cuda13/__init__.py\", line 328, in initialize\n",
      "    _check_cuda_versions(raise_on_first_error=True)\n",
      "  File \"/global/homes/r/ravouxco/.local/perlmutter/python-3.11/lib/python3.11/site-packages/jax_plugins/xla_cuda13/__init__.py\", line 150, in _check_cuda_versions\n",
      "    assert cuda_versions is not None\n",
      "           ^^^^^^^^^^^^^^^^^^^^^^^^^\n",
      "AssertionError\n",
      "[ 000000.24 ]: 09-23 02:18  jax._src.xla_bridge ERROR    Jax plugin configuration error: Exception when calling jax_plugins.xla_cuda13.initialize()\n",
      "Traceback (most recent call last):\n",
      "  File \"/global/homes/r/ravouxco/.local/perlmutter/python-3.11/lib/python3.11/site-packages/jax/_src/xla_bridge.py\", line 500, in discover_pjrt_plugins\n",
      "    plugin_module.initialize()\n",
      "  File \"/global/homes/r/ravouxco/.local/perlmutter/python-3.11/lib/python3.11/site-packages/jax_plugins/xla_cuda13/__init__.py\", line 328, in initialize\n",
      "    _check_cuda_versions(raise_on_first_error=True)\n",
      "  File \"/global/homes/r/ravouxco/.local/perlmutter/python-3.11/lib/python3.11/site-packages/jax_plugins/xla_cuda13/__init__.py\", line 150, in _check_cuda_versions\n",
      "    assert cuda_versions is not None\n",
      "           ^^^^^^^^^^^^^^^^^^^^^^^^^\n",
      "AssertionError\n",
      "ERROR:2025-09-23 02:18:09,801:jax._src.xla_bridge:502: Jax plugin configuration error: Exception when calling jax_plugins.xla_cuda12.initialize()\n",
      "Traceback (most recent call last):\n",
      "  File \"/global/homes/r/ravouxco/.local/perlmutter/python-3.11/lib/python3.11/site-packages/jax/_src/xla_bridge.py\", line 500, in discover_pjrt_plugins\n",
      "    plugin_module.initialize()\n",
      "  File \"/global/homes/r/ravouxco/.local/perlmutter/python-3.11/lib/python3.11/site-packages/jax_plugins/xla_cuda12/__init__.py\", line 328, in initialize\n",
      "    _check_cuda_versions(raise_on_first_error=True)\n",
      "  File \"/global/homes/r/ravouxco/.local/perlmutter/python-3.11/lib/python3.11/site-packages/jax_plugins/xla_cuda12/__init__.py\", line 150, in _check_cuda_versions\n",
      "    assert cuda_versions is not None\n",
      "           ^^^^^^^^^^^^^^^^^^^^^^^^^\n",
      "AssertionError\n",
      "[ 000000.25 ]: 09-23 02:18  jax._src.xla_bridge ERROR    Jax plugin configuration error: Exception when calling jax_plugins.xla_cuda12.initialize()\n",
      "Traceback (most recent call last):\n",
      "  File \"/global/homes/r/ravouxco/.local/perlmutter/python-3.11/lib/python3.11/site-packages/jax/_src/xla_bridge.py\", line 500, in discover_pjrt_plugins\n",
      "    plugin_module.initialize()\n",
      "  File \"/global/homes/r/ravouxco/.local/perlmutter/python-3.11/lib/python3.11/site-packages/jax_plugins/xla_cuda12/__init__.py\", line 328, in initialize\n",
      "    _check_cuda_versions(raise_on_first_error=True)\n",
      "  File \"/global/homes/r/ravouxco/.local/perlmutter/python-3.11/lib/python3.11/site-packages/jax_plugins/xla_cuda12/__init__.py\", line 150, in _check_cuda_versions\n",
      "    assert cuda_versions is not None\n",
      "           ^^^^^^^^^^^^^^^^^^^^^^^^^\n",
      "AssertionError\n",
      "INFO:2025-09-23 02:18:09,901:jax._src.xla_bridge:830: Unable to initialize backend 'tpu': INTERNAL: Failed to open libtpu.so: libtpu.so: cannot open shared object file: No such file or directory\n",
      "[ 000000.35 ]: 09-23 02:18  jax._src.xla_bridge INFO     Unable to initialize backend 'tpu': INTERNAL: Failed to open libtpu.so: libtpu.so: cannot open shared object file: No such file or directory\n",
      "WARNING:2025-09-23 02:18:09,903:jax._src.xla_bridge:872: An NVIDIA GPU may be present on this machine, but a CUDA-enabled jaxlib is not installed. Falling back to cpu.\n",
      "[ 000000.35 ]: 09-23 02:18  jax._src.xla_bridge WARNING  An NVIDIA GPU may be present on this machine, but a CUDA-enabled jaxlib is not installed. Falling back to cpu.\n",
      "[ 000000.00 ]: 09-23 02:18  root            WARNING  Install CCL https://github.com/LSSTDESC/CCL to use pyccl_engine.py module\n"
     ]
    }
   ],
   "source": [
    "import numpy as np\n",
    "import pandas as pd\n",
    "import matplotlib.pyplot as plt\n",
    "\n",
    "from pathlib import Path\n",
    "from flip import utils, fitter, plot_utils, data_vector, __flip_dir_path__\n",
    "from flip.covariance import covariance, contraction\n",
    "\n",
    "flip_base = Path(__flip_dir_path__)\n",
    "data_path = flip_base / \"data\"\n",
    "plt.style.use(data_path / \"style.mplstyle\")"
   ]
  },
  {
   "cell_type": "markdown",
   "id": "7d184b4d-4672-4bf7-8f21-c156e0e195f7",
   "metadata": {},
   "source": [
    "Loading the data, located in the package itself\n",
    "\n"
   ]
  },
  {
   "cell_type": "code",
   "execution_count": 3,
   "id": "f81a2bc9-1d9e-4969-ac2d-0b5e56fd189c",
   "metadata": {
    "tags": []
   },
   "outputs": [],
   "source": [
    "data_velocity = pd.read_parquet(data_path / \"velocity_data.parquet\")\n",
    "\n",
    "\n",
    "data_velocity_true = {**data_velocity.rename(columns={'vpec': 'velocity'}).to_dict(orient='list'), \n",
    "                      \"velocity_error\": np.zeros(len(data_velocity[\"vpec\"].values))}\n",
    "\n",
    "\n",
    "# Create the data Vector\n",
    "DataTrueVel = data_vector.DirectVel(data_velocity_true)\n",
    "\n",
    "ktt, ptt = np.loadtxt(data_path / \"power_spectrum_tt.txt\")\n",
    "kmt, pmt = np.loadtxt(data_path / \"power_spectrum_mt.txt\")\n",
    "kmm, pmm = np.loadtxt(data_path / \"power_spectrum_mm.txt\")\n",
    "\n",
    "sigmau_fiducial = 15\n",
    "\n",
    "power_spectrum_dict = {\"vv\": [[ktt, ptt * utils.Du(ktt, sigmau_fiducial) ** 2]]}\n"
   ]
  },
  {
   "cell_type": "markdown",
   "id": "a164ce4a-0e0a-48a1-af3b-ae8c7e07a1b6",
   "metadata": {},
   "source": [
    "# Fit true velocity interpolation sigma_u"
   ]
  },
  {
   "cell_type": "markdown",
   "id": "c8ce762e-e843-4ff5-8699-00f4513eff52",
   "metadata": {},
   "source": [
    "In the model, there is a sigma_u parameter which can be interpreted to the smoothing of SNIa position due to peculiar velocities. \\\n",
    "To fit simultaneously this parameter, we interpolate the covariance matrix. "
   ]
  },
  {
   "cell_type": "code",
   "execution_count": 7,
   "id": "9c22818b-2e8e-4bd3-a546-7f0c4e1a1b67",
   "metadata": {
    "tags": []
   },
   "outputs": [
    {
     "name": "stderr",
     "output_type": "stream",
     "text": [
      "[ 000077.42 ]: 09-23 02:19  root            INFO     Covariance matrix generated from flip with carreres23 model in 2.27e+00 seconds\n",
      "[ 000079.69 ]: 09-23 02:19  root            INFO     Covariance matrix generated from flip with carreres23 model in 2.11e+00 seconds\n",
      "[ 000081.89 ]: 09-23 02:19  root            INFO     Covariance matrix generated from flip with carreres23 model in 2.01e+00 seconds\n",
      "[ 000084.20 ]: 09-23 02:19  root            INFO     Covariance matrix generated from flip with carreres23 model in 2.10e+00 seconds\n",
      "[ 000086.40 ]: 09-23 02:19  root            INFO     Covariance matrix generated from flip with carreres23 model in 2.04e+00 seconds\n",
      "[ 000088.66 ]: 09-23 02:19  root            INFO     Covariance matrix generated from flip with carreres23 model in 2.09e+00 seconds\n",
      "[ 000091.05 ]: 09-23 02:19  root            INFO     Covariance matrix generated from flip with carreres23 model in 2.23e+00 seconds\n",
      "[ 000093.70 ]: 09-23 02:19  root            INFO     Covariance matrix generated from flip with carreres23 model in 2.48e+00 seconds\n",
      "[ 000096.31 ]: 09-23 02:19  root            INFO     Covariance matrix generated from flip with carreres23 model in 2.39e+00 seconds\n",
      "[ 000098.61 ]: 09-23 02:19  root            INFO     Covariance matrix generated from flip with carreres23 model in 2.10e+00 seconds\n",
      "[ 000101.03 ]: 09-23 02:19  root            INFO     Covariance matrix generated from flip with carreres23 model in 2.28e+00 seconds\n",
      "[ 000103.64 ]: 09-23 02:19  root            INFO     Covariance matrix generated from flip with carreres23 model in 2.44e+00 seconds\n",
      "[ 000106.51 ]: 09-23 02:19  root            INFO     Covariance matrix generated from flip with carreres23 model in 2.67e+00 seconds\n",
      "[ 000109.48 ]: 09-23 02:19  root            INFO     Covariance matrix generated from flip with carreres23 model in 2.75e+00 seconds\n",
      "[ 000111.82 ]: 09-23 02:20  root            INFO     Covariance matrix generated from flip with carreres23 model in 2.16e+00 seconds\n",
      "[ 000114.36 ]: 09-23 02:20  root            INFO     Covariance matrix generated from flip with carreres23 model in 2.38e+00 seconds\n",
      "[ 000116.94 ]: 09-23 02:20  root            INFO     Covariance matrix generated from flip with carreres23 model in 2.41e+00 seconds\n",
      "[ 000119.36 ]: 09-23 02:20  root            INFO     Covariance matrix generated from flip with carreres23 model in 2.26e+00 seconds\n",
      "[ 000121.83 ]: 09-23 02:20  root            INFO     Covariance matrix generated from flip with carreres23 model in 2.31e+00 seconds\n",
      "[ 000124.17 ]: 09-23 02:20  root            INFO     Covariance matrix generated from flip with carreres23 model in 2.21e+00 seconds\n"
     ]
    }
   ],
   "source": [
    "sigmau_list = np.linspace(10.0, 20.0,20)[:, np.newaxis]\n",
    "covariance_list = []\n",
    "size_batch=10_000\n",
    "number_worker=16\n",
    "\n",
    "\n",
    "for sigu in sigmau_list:\n",
    "    \n",
    "    power_spectrum_dict = {\"vv\": [[ktt, ptt* utils.Du(ktt, sigu)**2]]}\n",
    "\n",
    "    covariance_list.append(\n",
    "        DataTrueVel.compute_covariance(\n",
    "            \"carreres23\",\n",
    "            power_spectrum_dict,\n",
    "            size_batch=size_batch,\n",
    "            number_worker=number_worker\n",
    "        )\n",
    "    )\n"
   ]
  },
  {
   "cell_type": "code",
   "execution_count": 8,
   "id": "4a9d6253-ce87-4ae7-aa51-9c47c35c1acd",
   "metadata": {},
   "outputs": [
    {
     "name": "stderr",
     "output_type": "stream",
     "text": [
      "[ 000142.26 ]: 09-23 02:20  GP              INFO     initializing Y\n",
      "[ 000142.26 ]: 09-23 02:20  GP              INFO     initializing inference method\n",
      "[ 000142.26 ]: 09-23 02:20  GP              INFO     adding kernel and likelihood as parameters\n"
     ]
    },
    {
     "data": {
      "application/vnd.jupyter.widget-view+json": {
       "model_id": "51a0863ce2354b599407d3ee5a101963",
       "version_major": 2,
       "version_minor": 0
      },
      "text/plain": [
       "HBox(children=(VBox(children=(IntProgress(value=0, max=1000), HTML(value=''))), Box(children=(HTML(value=''),)…"
      ]
     },
     "metadata": {},
     "output_type": "display_data"
    },
    {
     "name": "stderr",
     "output_type": "stream",
     "text": [
      "[ 000142.56 ]: 09-23 02:20  GP              INFO     initializing Y\n",
      "[ 000142.56 ]: 09-23 02:20  GP              INFO     initializing inference method\n",
      "[ 000142.56 ]: 09-23 02:20  GP              INFO     adding kernel and likelihood as parameters\n"
     ]
    },
    {
     "data": {
      "application/vnd.jupyter.widget-view+json": {
       "model_id": "8a4aed56db1146eb83838d8dadb67ea3",
       "version_major": 2,
       "version_minor": 0
      },
      "text/plain": [
       "HBox(children=(VBox(children=(IntProgress(value=0, max=1000), HTML(value=''))), Box(children=(HTML(value=''),)…"
      ]
     },
     "metadata": {},
     "output_type": "display_data"
    },
    {
     "name": "stderr",
     "output_type": "stream",
     "text": [
      "[ 000283.42 ]: 09-23 02:22  root            INFO     Covariance matrix generated from emulator with gpmatrix model in 1.42e+02 seconds\n"
     ]
    }
   ],
   "source": [
    "emulator_model = \"gpmatrix\"\n",
    "emulator_parameter_names = [\"sigu\"]\n",
    "\n",
    "covariance_gpmatrix = covariance.CovMatrix.init_from_emulator(\n",
    "            emulator_model,\n",
    "            \"velocity\",\n",
    "            covariance_list,\n",
    "            sigmau_list,\n",
    "            emulator_parameter_names,\n",
    "            verbose=True,\n",
    "            test_emulator=False,\n",
    "        )\n",
    "\n"
   ]
  },
  {
   "cell_type": "code",
   "execution_count": 9,
   "id": "5034bd62-9be1-4b41-9c12-b1e45cd7c8a7",
   "metadata": {
    "tags": []
   },
   "outputs": [
    {
     "name": "stdout",
     "output_type": "stream",
     "text": [
      "Free parameters: ['fs8', 'sigv']\n"
     ]
    },
    {
     "name": "stderr",
     "output_type": "stream",
     "text": [
      "[ 000314.95 ]: 09-23 02:23  root            INFO     ┌─────────────────────────────────────────────────────────────────────────┐\n",
      "│                                Migrad                                   │\n",
      "├──────────────────────────────────┬──────────────────────────────────────┤\n",
      "│ FCN = 1.374e+04                  │              Nfcn = 67               │\n",
      "│ EDM = 1.98e-06 (Goal: 0.0001)    │           time = 12.5 sec            │\n",
      "├──────────────────────────────────┼──────────────────────────────────────┤\n",
      "│          Valid Minimum           │   Below EDM threshold (goal x 10)    │\n",
      "├──────────────────────────────────┼──────────────────────────────────────┤\n",
      "│      No parameters at limit      │           Below call limit           │\n",
      "├──────────────────────────────────┼──────────────────────────────────────┤\n",
      "│             Hesse ok             │         Covariance accurate          │\n",
      "└──────────────────────────────────┴──────────────────────────────────────┘\n",
      "┌───┬──────┬───────────┬───────────┬────────────┬────────────┬─────────┬─────────┬───────┐\n",
      "│   │ Name │   Value   │ Hesse Err │ Minos Err- │ Minos Err+ │ Limit-  │ Limit+  │ Fixed │\n",
      "├───┼──────┼───────────┼───────────┼────────────┼────────────┼─────────┼─────────┼───────┤\n",
      "│ 0 │ fs8  │   0.361   │   0.024   │            │            │    0    │         │       │\n",
      "│ 1 │ sigv │    197    │     5     │            │            │    0    │         │       │\n",
      "│ 2 │ sigu │   13.8    │    2.2    │            │            │   10    │   20    │       │\n",
      "└───┴──────┴───────────┴───────────┴────────────┴────────────┴─────────┴─────────┴───────┘\n",
      "┌──────┬────────────────────────────┐\n",
      "│      │      fs8     sigv     sigu │\n",
      "├──────┼────────────────────────────┤\n",
      "│  fs8 │ 0.000599   4.0e-3  36.6e-3 │\n",
      "│ sigv │   4.0e-3     21.3        5 │\n",
      "│ sigu │  36.6e-3        5      5.4 │\n",
      "└──────┴────────────────────────────┘\n"
     ]
    },
    {
     "data": {
      "text/plain": [
       "{'fs8': 0.36098297738210167,\n",
       " 'sigv': 196.5163797427982,\n",
       " 'sigu': 13.788453786685528}"
      ]
     },
     "execution_count": 9,
     "metadata": {},
     "output_type": "execute_result"
    }
   ],
   "source": [
    "parameter_dict = {\"fs8\": {\"value\": 0.4,\n",
    "                          \"limit_low\" : 0.0,\n",
    "                          \"fixed\" : False,\n",
    "                         },\n",
    "                  \"sigv\": {\"value\": 200,\n",
    "                          \"limit_low\" : 0.0,\n",
    "                          \"fixed\" : False,\n",
    "                         },\n",
    "                  \"sigu\": {\"value\": 15.5,\n",
    "                          \"limit_low\" : 10.0,\n",
    "                          \"limit_up\" : 20.0,\n",
    "                          \"fixed\" : False,\n",
    "                         },\n",
    "                 }\n",
    "\n",
    "\n",
    "prior_dict = {\"sigu\": {\"type\": \"gaussian\",\n",
    "                       \"mean\" : 15.0,\n",
    "                       \"standard_deviation\" : 5.0,},\n",
    "             }\n",
    "\n",
    "likelihood_type=\"multivariate_gaussian\"\n",
    "likelihood_properties = {\"inversion_method\": \"cholesky\",\n",
    "                         \"prior\": prior_dict}\n",
    "\n",
    "\n",
    "\n",
    "minuit_fitter = fitter.FitMinuit.init_from_covariance(\n",
    "        covariance_gpmatrix,\n",
    "        DataTrueVel,\n",
    "        parameter_dict,\n",
    "        likelihood_type=likelihood_type,\n",
    "        likelihood_properties = likelihood_properties,\n",
    ")\n",
    "\n",
    "print('Free parameters:', minuit_fitter.likelihood.free_par)\n",
    "\n",
    "minuit_fitter.run()\n"
   ]
  },
  {
   "cell_type": "code",
   "execution_count": null,
   "id": "8f3f5dbf-f422-430c-b15d-1f80a16baf8c",
   "metadata": {},
   "outputs": [],
   "source": []
  }
 ],
 "metadata": {
  "kernelspec": {
   "display_name": "corentin",
   "language": "python",
   "name": "corentin"
  },
  "language_info": {
   "codemirror_mode": {
    "name": "ipython",
    "version": 3
   },
   "file_extension": ".py",
   "mimetype": "text/x-python",
   "name": "python",
   "nbconvert_exporter": "python",
   "pygments_lexer": "ipython3",
   "version": "3.11.7"
  }
 },
 "nbformat": 4,
 "nbformat_minor": 5
}
