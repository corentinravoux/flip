{
 "cells": [
  {
   "cell_type": "code",
   "execution_count": 1,
   "id": "681b704a-ecb1-4f32-b411-cd2b5c47a8c2",
   "metadata": {
    "tags": []
   },
   "outputs": [
    {
     "name": "stderr",
     "output_type": "stream",
     "text": [
      "/tmp/ipykernel_470034/3270887735.py:5: DeprecationWarning: pkg_resources is deprecated as an API. See https://setuptools.pypa.io/en/latest/pkg_resources.html\n",
      "  from pkg_resources import resource_filename\n",
      "[ 000000.00 ]: 09-20 08:06  root            INFO     No pypower module detected, gridding with this method is unavailable\n"
     ]
    }
   ],
   "source": [
    "import os\n",
    "\n",
    "import numpy as np\n",
    "import pandas as pd\n",
    "from pkg_resources import resource_filename\n",
    "\n",
    "from flip import fisher, utils, data_vector\n",
    "from flip.covariance import covariance\n",
    "\n",
    "flip_base = resource_filename(\"flip\", \".\")\n",
    "data_path = os.path.join(flip_base, \"data\")"
   ]
  },
  {
   "cell_type": "code",
   "execution_count": 2,
   "id": "387ba8d3-a9cc-4d2e-9a80-03043a82783b",
   "metadata": {
    "tags": []
   },
   "outputs": [],
   "source": [
    "grid = pd.read_parquet(os.path.join(data_path,\"density_data.parquet\"))\n",
    "grid_window = pd.read_parquet(os.path.join(data_path,\"grid_window_m.parquet\"))\n",
    "\n",
    "ktt, ptt = np.loadtxt(os.path.join(data_path,\"power_spectrum_tt.txt\"))\n",
    "kmt, pmt = np.loadtxt(os.path.join(data_path,\"power_spectrum_mt.txt\"))\n",
    "kmm, pmm = np.loadtxt(os.path.join(data_path,\"power_spectrum_mm.txt\"))\n",
    "\n",
    "sigmag_fiducial = 3.0\n",
    "\n",
    "power_spectrum_dict_bias = {\"gg\": [[kmm, pmm * np.array(grid_window[\"window_mm\"])**2]]}\n",
    "power_spectrum_dict = {\n",
    "    \"gg\": [\n",
    "        [kmm, pmm * np.array(grid_window[\"window_mm\"])**2],\n",
    "        [kmt, pmt * np.array(grid_window[\"window_mt\"])],\n",
    "        [ktt, ptt]\n",
    "    ]\n",
    "                      }"
   ]
  },
  {
   "cell_type": "code",
   "execution_count": 3,
   "id": "91f7e242-97d8-44bb-b136-2501d8e1e0eb",
   "metadata": {
    "tags": []
   },
   "outputs": [
    {
     "name": "stderr",
     "output_type": "stream",
     "text": [
      "[ 000000.18 ]: 09-20 08:06  jax._src.xla_bridge INFO     Unable to initialize backend 'cuda': \n",
      "[ 000000.18 ]: 09-20 08:06  jax._src.xla_bridge INFO     Unable to initialize backend 'rocm': module 'jaxlib.xla_extension' has no attribute 'GpuAllocatorConfig'\n",
      "[ 000000.19 ]: 09-20 08:06  jax._src.xla_bridge INFO     Unable to initialize backend 'tpu': INTERNAL: Failed to open libtpu.so: libtpu.so: cannot open shared object file: No such file or directory\n",
      "[ 000000.19 ]: 09-20 08:06  jax._src.xla_bridge WARNING  An NVIDIA GPU may be present on this machine, but a CUDA-enabled jaxlib is not installed. Falling back to cpu.\n"
     ]
    },
    {
     "name": "stdout",
     "output_type": "stream",
     "text": [
      "Data free parameters:  []\n"
     ]
    }
   ],
   "source": [
    "DataFisher = data_vector.FisherDensity(grid.rename(columns={'density_err': 'density_error', 'rcom': 'rcom_zobs'}).to_dict(orient='list'))\n",
    "print(\"Data free parameters: \", DataFisher.free_par)"
   ]
  },
  {
   "cell_type": "code",
   "execution_count": 7,
   "id": "ca83b99e-eec2-4469-ae55-d70fc508218e",
   "metadata": {
    "tags": []
   },
   "outputs": [
    {
     "name": "stderr",
     "output_type": "stream",
     "text": [
      "/pscratch/sd/b/bastienc/Soft/.miniconda3/envs/flip/lib/python3.11/multiprocessing/popen_fork.py:66: RuntimeWarning: os.fork() was called. os.fork() is incompatible with multithreaded code, and JAX is multithreaded, so this will likely lead to a deadlock.\n",
      "  self.pid = os.fork()\n",
      "[ 000025.56 ]: 09-20 08:08  root            INFO     Covariance matrix generated from flip with adamsblake20 model in 1.20e+00 seconds\n"
     ]
    },
    {
     "name": "stdout",
     "output_type": "stream",
     "text": [
      "Covariance free parameters:  ['beta_f', 'bs8']\n"
     ]
    }
   ],
   "source": [
    "size_batch=10_000\n",
    "number_worker=8\n",
    "covariance_fit = DataFisher.compute_cov(\"adamsblake20\", power_spectrum_dict, size_batch=size_batch, \n",
    "                                          number_worker=number_worker, additional_parameters_values=(sigmag_fiducial,))\n",
    "\n",
    "print(\"Covariance free parameters: \", covariance_fit.free_par)"
   ]
  },
  {
   "cell_type": "code",
   "execution_count": 15,
   "id": "56cffe25-d883-450d-b777-b52dbcace973",
   "metadata": {
    "tags": []
   },
   "outputs": [],
   "source": [
    "fisher_properties = {\n",
    "    \"inversion_method\": \"inverse\",\n",
    "}\n"
   ]
  },
  {
   "cell_type": "code",
   "execution_count": 16,
   "id": "10cd0f36-0c81-4230-937a-3813e7a63813",
   "metadata": {
    "tags": []
   },
   "outputs": [],
   "source": [
    "parameter_dict = {\n",
    "    \"bs8\": 0.8,\n",
    "    \"beta_f\": 0.3,\n",
    "}\n",
    "\n",
    "Fisher = fisher.FisherMatrix.init_from_covariance(\n",
    "    covariance_fit,\n",
    "    DataFisher,\n",
    "    parameter_dict,\n",
    "    fisher_properties=fisher_properties,\n",
    ")\n",
    "\n",
    "parameter_name_list, fisher_matrix = Fisher.compute_fisher_matrix()\n",
    "\n",
    "ERR = np.sqrt(np.diag(np.linalg.pinv(fisher_matrix)))"
   ]
  },
  {
   "cell_type": "code",
   "execution_count": 17,
   "id": "b957fa92-0217-4012-847b-fee9105bb717",
   "metadata": {
    "tags": []
   },
   "outputs": [
    {
     "name": "stdout",
     "output_type": "stream",
     "text": [
      "Fisher error on fs8 = 0.0000\n",
      "Fisher error on bs8 = 0.0322\n",
      "Fisher error on beta_f = 0.0760\n"
     ]
    }
   ],
   "source": [
    "for p, e in zip(parameter_name_list, ERR):\n",
    "    print(f\"Fisher error on {p} = {e:.4f}\")"
   ]
  },
  {
   "cell_type": "code",
   "execution_count": null,
   "id": "487b8cb2-a22b-4883-9928-840fd17384e5",
   "metadata": {},
   "outputs": [],
   "source": []
  }
 ],
 "metadata": {
  "kernelspec": {
   "display_name": "flip",
   "language": "python",
   "name": "flip"
  },
  "language_info": {
   "codemirror_mode": {
    "name": "ipython",
    "version": 3
   },
   "file_extension": ".py",
   "mimetype": "text/x-python",
   "name": "python",
   "nbconvert_exporter": "python",
   "pygments_lexer": "ipython3",
   "version": "3.11.9"
  }
 },
 "nbformat": 4,
 "nbformat_minor": 5
}
